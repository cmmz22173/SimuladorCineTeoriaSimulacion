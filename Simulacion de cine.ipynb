{
 "cells": [
  {
   "cell_type": "markdown",
   "id": "7b36e2df",
   "metadata": {},
   "source": [
    "# Simulador de colas en cine"
   ]
  },
  {
   "cell_type": "markdown",
   "id": "05b128da",
   "metadata": {},
   "source": [
    "### Complementos necesarios"
   ]
  },
  {
   "cell_type": "code",
   "execution_count": 40,
   "id": "7a99bac8",
   "metadata": {
    "tags": []
   },
   "outputs": [
    {
     "name": "stdout",
     "output_type": "stream",
     "text": [
      "Requirement already satisfied: simpy in c:\\users\\camil\\anaconda3\\lib\\site-packages (4.1.1)\n",
      "Note: you may need to restart the kernel to use updated packages.\n"
     ]
    }
   ],
   "source": [
    "pip install simpy"
   ]
  },
  {
   "cell_type": "markdown",
   "id": "cdbe56a9",
   "metadata": {},
   "source": [
    "### Librerias"
   ]
  },
  {
   "cell_type": "code",
   "execution_count": 41,
   "id": "3c3a93e6",
   "metadata": {
    "tags": []
   },
   "outputs": [],
   "source": [
    "import simpy\n",
    "import random\n",
    "import pandas as pd"
   ]
  },
  {
   "cell_type": "markdown",
   "id": "644b3e52",
   "metadata": {
    "jp-MarkdownHeadingCollapsed": true,
    "tags": []
   },
   "source": [
    "#### Creacion de clientes"
   ]
  },
  {
   "cell_type": "code",
   "execution_count": 42,
   "id": "7c9a12b1",
   "metadata": {
    "tags": []
   },
   "outputs": [],
   "source": [
    "\n",
    "class Persona:\n",
    "    ultimo_id = 0\n",
    "        \n",
    "    def __init__(self):\n",
    "        Persona.ultimo_id += 1\n",
    "        self.id = Persona.ultimo_id\n",
    "        self.edad = random.randint(14, 60)\n",
    "        self.genero = random.choice([\"Femenino\", \"Masculino\"])\n",
    "        self.nivel_paciencia = random.randint(1, 3)\n",
    "        \n",
    "    def tiempo_decidir(self):\n",
    "        return self.edad * 0.02 + self.nivel_paciencia"
   ]
  },
  {
   "cell_type": "markdown",
   "id": "d015b0e6-6ed8-4c83-881a-31e340c02e06",
   "metadata": {
    "jp-MarkdownHeadingCollapsed": true,
    "tags": []
   },
   "source": [
    "#### Definir numero de personas"
   ]
  },
  {
   "cell_type": "code",
   "execution_count": 43,
   "id": "d435abf4",
   "metadata": {
    "tags": []
   },
   "outputs": [],
   "source": [
    "num_personas = 40"
   ]
  },
  {
   "cell_type": "markdown",
   "id": "ee14a7bc",
   "metadata": {
    "jp-MarkdownHeadingCollapsed": true,
    "tags": []
   },
   "source": [
    "#### Generacion de n clientes"
   ]
  },
  {
   "cell_type": "code",
   "execution_count": 44,
   "id": "bf1d0513",
   "metadata": {
    "tags": []
   },
   "outputs": [],
   "source": [
    "\n",
    "personas = [Persona() for _ in range(num_personas)]\n",
    "\n",
    "# Crear DataFrame\n",
    "df = pd.DataFrame(\n",
    "    data={\n",
    "        \"Identificacion\": [persona.id for persona in personas],\n",
    "        \"Edad\": [persona.edad for persona in personas],\n",
    "        \"Genero\": [persona.genero for persona in personas],\n",
    "        \"Nivel_Paciencia\": [persona.nivel_paciencia for persona in personas],\n",
    "        \"Tiempo_Decidir (min)\": [persona.tiempo_decidir() for persona in personas]\n",
    "    }\n",
    ")"
   ]
  },
  {
   "cell_type": "code",
   "execution_count": 45,
   "id": "90835ae7",
   "metadata": {
    "tags": []
   },
   "outputs": [
    {
     "data": {
      "text/html": [
       "<div>\n",
       "<style scoped>\n",
       "    .dataframe tbody tr th:only-of-type {\n",
       "        vertical-align: middle;\n",
       "    }\n",
       "\n",
       "    .dataframe tbody tr th {\n",
       "        vertical-align: top;\n",
       "    }\n",
       "\n",
       "    .dataframe thead th {\n",
       "        text-align: right;\n",
       "    }\n",
       "</style>\n",
       "<table border=\"1\" class=\"dataframe\">\n",
       "  <thead>\n",
       "    <tr style=\"text-align: right;\">\n",
       "      <th></th>\n",
       "      <th>Identificacion</th>\n",
       "      <th>Edad</th>\n",
       "      <th>Genero</th>\n",
       "      <th>Nivel_Paciencia</th>\n",
       "      <th>Tiempo_Decidir (min)</th>\n",
       "    </tr>\n",
       "  </thead>\n",
       "  <tbody>\n",
       "    <tr>\n",
       "      <th>0</th>\n",
       "      <td>1</td>\n",
       "      <td>37</td>\n",
       "      <td>Masculino</td>\n",
       "      <td>1</td>\n",
       "      <td>1.74</td>\n",
       "    </tr>\n",
       "    <tr>\n",
       "      <th>1</th>\n",
       "      <td>2</td>\n",
       "      <td>17</td>\n",
       "      <td>Femenino</td>\n",
       "      <td>2</td>\n",
       "      <td>2.34</td>\n",
       "    </tr>\n",
       "    <tr>\n",
       "      <th>2</th>\n",
       "      <td>3</td>\n",
       "      <td>55</td>\n",
       "      <td>Masculino</td>\n",
       "      <td>2</td>\n",
       "      <td>3.10</td>\n",
       "    </tr>\n",
       "    <tr>\n",
       "      <th>3</th>\n",
       "      <td>4</td>\n",
       "      <td>30</td>\n",
       "      <td>Masculino</td>\n",
       "      <td>1</td>\n",
       "      <td>1.60</td>\n",
       "    </tr>\n",
       "    <tr>\n",
       "      <th>4</th>\n",
       "      <td>5</td>\n",
       "      <td>44</td>\n",
       "      <td>Masculino</td>\n",
       "      <td>1</td>\n",
       "      <td>1.88</td>\n",
       "    </tr>\n",
       "    <tr>\n",
       "      <th>5</th>\n",
       "      <td>6</td>\n",
       "      <td>40</td>\n",
       "      <td>Masculino</td>\n",
       "      <td>2</td>\n",
       "      <td>2.80</td>\n",
       "    </tr>\n",
       "    <tr>\n",
       "      <th>6</th>\n",
       "      <td>7</td>\n",
       "      <td>45</td>\n",
       "      <td>Femenino</td>\n",
       "      <td>1</td>\n",
       "      <td>1.90</td>\n",
       "    </tr>\n",
       "    <tr>\n",
       "      <th>7</th>\n",
       "      <td>8</td>\n",
       "      <td>49</td>\n",
       "      <td>Masculino</td>\n",
       "      <td>3</td>\n",
       "      <td>3.98</td>\n",
       "    </tr>\n",
       "    <tr>\n",
       "      <th>8</th>\n",
       "      <td>9</td>\n",
       "      <td>21</td>\n",
       "      <td>Femenino</td>\n",
       "      <td>3</td>\n",
       "      <td>3.42</td>\n",
       "    </tr>\n",
       "    <tr>\n",
       "      <th>9</th>\n",
       "      <td>10</td>\n",
       "      <td>15</td>\n",
       "      <td>Masculino</td>\n",
       "      <td>1</td>\n",
       "      <td>1.30</td>\n",
       "    </tr>\n",
       "    <tr>\n",
       "      <th>10</th>\n",
       "      <td>11</td>\n",
       "      <td>23</td>\n",
       "      <td>Femenino</td>\n",
       "      <td>2</td>\n",
       "      <td>2.46</td>\n",
       "    </tr>\n",
       "    <tr>\n",
       "      <th>11</th>\n",
       "      <td>12</td>\n",
       "      <td>23</td>\n",
       "      <td>Masculino</td>\n",
       "      <td>3</td>\n",
       "      <td>3.46</td>\n",
       "    </tr>\n",
       "    <tr>\n",
       "      <th>12</th>\n",
       "      <td>13</td>\n",
       "      <td>28</td>\n",
       "      <td>Masculino</td>\n",
       "      <td>3</td>\n",
       "      <td>3.56</td>\n",
       "    </tr>\n",
       "    <tr>\n",
       "      <th>13</th>\n",
       "      <td>14</td>\n",
       "      <td>42</td>\n",
       "      <td>Masculino</td>\n",
       "      <td>1</td>\n",
       "      <td>1.84</td>\n",
       "    </tr>\n",
       "    <tr>\n",
       "      <th>14</th>\n",
       "      <td>15</td>\n",
       "      <td>22</td>\n",
       "      <td>Masculino</td>\n",
       "      <td>2</td>\n",
       "      <td>2.44</td>\n",
       "    </tr>\n",
       "    <tr>\n",
       "      <th>15</th>\n",
       "      <td>16</td>\n",
       "      <td>38</td>\n",
       "      <td>Masculino</td>\n",
       "      <td>3</td>\n",
       "      <td>3.76</td>\n",
       "    </tr>\n",
       "    <tr>\n",
       "      <th>16</th>\n",
       "      <td>17</td>\n",
       "      <td>41</td>\n",
       "      <td>Masculino</td>\n",
       "      <td>3</td>\n",
       "      <td>3.82</td>\n",
       "    </tr>\n",
       "    <tr>\n",
       "      <th>17</th>\n",
       "      <td>18</td>\n",
       "      <td>47</td>\n",
       "      <td>Femenino</td>\n",
       "      <td>2</td>\n",
       "      <td>2.94</td>\n",
       "    </tr>\n",
       "    <tr>\n",
       "      <th>18</th>\n",
       "      <td>19</td>\n",
       "      <td>40</td>\n",
       "      <td>Femenino</td>\n",
       "      <td>2</td>\n",
       "      <td>2.80</td>\n",
       "    </tr>\n",
       "    <tr>\n",
       "      <th>19</th>\n",
       "      <td>20</td>\n",
       "      <td>15</td>\n",
       "      <td>Masculino</td>\n",
       "      <td>2</td>\n",
       "      <td>2.30</td>\n",
       "    </tr>\n",
       "    <tr>\n",
       "      <th>20</th>\n",
       "      <td>21</td>\n",
       "      <td>20</td>\n",
       "      <td>Femenino</td>\n",
       "      <td>2</td>\n",
       "      <td>2.40</td>\n",
       "    </tr>\n",
       "    <tr>\n",
       "      <th>21</th>\n",
       "      <td>22</td>\n",
       "      <td>41</td>\n",
       "      <td>Masculino</td>\n",
       "      <td>2</td>\n",
       "      <td>2.82</td>\n",
       "    </tr>\n",
       "    <tr>\n",
       "      <th>22</th>\n",
       "      <td>23</td>\n",
       "      <td>34</td>\n",
       "      <td>Femenino</td>\n",
       "      <td>2</td>\n",
       "      <td>2.68</td>\n",
       "    </tr>\n",
       "    <tr>\n",
       "      <th>23</th>\n",
       "      <td>24</td>\n",
       "      <td>59</td>\n",
       "      <td>Masculino</td>\n",
       "      <td>2</td>\n",
       "      <td>3.18</td>\n",
       "    </tr>\n",
       "    <tr>\n",
       "      <th>24</th>\n",
       "      <td>25</td>\n",
       "      <td>19</td>\n",
       "      <td>Femenino</td>\n",
       "      <td>1</td>\n",
       "      <td>1.38</td>\n",
       "    </tr>\n",
       "    <tr>\n",
       "      <th>25</th>\n",
       "      <td>26</td>\n",
       "      <td>58</td>\n",
       "      <td>Femenino</td>\n",
       "      <td>3</td>\n",
       "      <td>4.16</td>\n",
       "    </tr>\n",
       "    <tr>\n",
       "      <th>26</th>\n",
       "      <td>27</td>\n",
       "      <td>27</td>\n",
       "      <td>Masculino</td>\n",
       "      <td>3</td>\n",
       "      <td>3.54</td>\n",
       "    </tr>\n",
       "    <tr>\n",
       "      <th>27</th>\n",
       "      <td>28</td>\n",
       "      <td>50</td>\n",
       "      <td>Masculino</td>\n",
       "      <td>3</td>\n",
       "      <td>4.00</td>\n",
       "    </tr>\n",
       "    <tr>\n",
       "      <th>28</th>\n",
       "      <td>29</td>\n",
       "      <td>18</td>\n",
       "      <td>Femenino</td>\n",
       "      <td>1</td>\n",
       "      <td>1.36</td>\n",
       "    </tr>\n",
       "    <tr>\n",
       "      <th>29</th>\n",
       "      <td>30</td>\n",
       "      <td>32</td>\n",
       "      <td>Femenino</td>\n",
       "      <td>3</td>\n",
       "      <td>3.64</td>\n",
       "    </tr>\n",
       "    <tr>\n",
       "      <th>30</th>\n",
       "      <td>31</td>\n",
       "      <td>31</td>\n",
       "      <td>Masculino</td>\n",
       "      <td>3</td>\n",
       "      <td>3.62</td>\n",
       "    </tr>\n",
       "    <tr>\n",
       "      <th>31</th>\n",
       "      <td>32</td>\n",
       "      <td>49</td>\n",
       "      <td>Femenino</td>\n",
       "      <td>2</td>\n",
       "      <td>2.98</td>\n",
       "    </tr>\n",
       "    <tr>\n",
       "      <th>32</th>\n",
       "      <td>33</td>\n",
       "      <td>52</td>\n",
       "      <td>Masculino</td>\n",
       "      <td>3</td>\n",
       "      <td>4.04</td>\n",
       "    </tr>\n",
       "    <tr>\n",
       "      <th>33</th>\n",
       "      <td>34</td>\n",
       "      <td>35</td>\n",
       "      <td>Masculino</td>\n",
       "      <td>2</td>\n",
       "      <td>2.70</td>\n",
       "    </tr>\n",
       "    <tr>\n",
       "      <th>34</th>\n",
       "      <td>35</td>\n",
       "      <td>23</td>\n",
       "      <td>Femenino</td>\n",
       "      <td>3</td>\n",
       "      <td>3.46</td>\n",
       "    </tr>\n",
       "    <tr>\n",
       "      <th>35</th>\n",
       "      <td>36</td>\n",
       "      <td>31</td>\n",
       "      <td>Femenino</td>\n",
       "      <td>3</td>\n",
       "      <td>3.62</td>\n",
       "    </tr>\n",
       "    <tr>\n",
       "      <th>36</th>\n",
       "      <td>37</td>\n",
       "      <td>30</td>\n",
       "      <td>Femenino</td>\n",
       "      <td>2</td>\n",
       "      <td>2.60</td>\n",
       "    </tr>\n",
       "    <tr>\n",
       "      <th>37</th>\n",
       "      <td>38</td>\n",
       "      <td>35</td>\n",
       "      <td>Masculino</td>\n",
       "      <td>3</td>\n",
       "      <td>3.70</td>\n",
       "    </tr>\n",
       "    <tr>\n",
       "      <th>38</th>\n",
       "      <td>39</td>\n",
       "      <td>33</td>\n",
       "      <td>Masculino</td>\n",
       "      <td>3</td>\n",
       "      <td>3.66</td>\n",
       "    </tr>\n",
       "    <tr>\n",
       "      <th>39</th>\n",
       "      <td>40</td>\n",
       "      <td>57</td>\n",
       "      <td>Femenino</td>\n",
       "      <td>2</td>\n",
       "      <td>3.14</td>\n",
       "    </tr>\n",
       "  </tbody>\n",
       "</table>\n",
       "</div>"
      ],
      "text/plain": [
       "    Identificacion  Edad     Genero  Nivel_Paciencia  Tiempo_Decidir (min)\n",
       "0                1    37  Masculino                1                  1.74\n",
       "1                2    17   Femenino                2                  2.34\n",
       "2                3    55  Masculino                2                  3.10\n",
       "3                4    30  Masculino                1                  1.60\n",
       "4                5    44  Masculino                1                  1.88\n",
       "5                6    40  Masculino                2                  2.80\n",
       "6                7    45   Femenino                1                  1.90\n",
       "7                8    49  Masculino                3                  3.98\n",
       "8                9    21   Femenino                3                  3.42\n",
       "9               10    15  Masculino                1                  1.30\n",
       "10              11    23   Femenino                2                  2.46\n",
       "11              12    23  Masculino                3                  3.46\n",
       "12              13    28  Masculino                3                  3.56\n",
       "13              14    42  Masculino                1                  1.84\n",
       "14              15    22  Masculino                2                  2.44\n",
       "15              16    38  Masculino                3                  3.76\n",
       "16              17    41  Masculino                3                  3.82\n",
       "17              18    47   Femenino                2                  2.94\n",
       "18              19    40   Femenino                2                  2.80\n",
       "19              20    15  Masculino                2                  2.30\n",
       "20              21    20   Femenino                2                  2.40\n",
       "21              22    41  Masculino                2                  2.82\n",
       "22              23    34   Femenino                2                  2.68\n",
       "23              24    59  Masculino                2                  3.18\n",
       "24              25    19   Femenino                1                  1.38\n",
       "25              26    58   Femenino                3                  4.16\n",
       "26              27    27  Masculino                3                  3.54\n",
       "27              28    50  Masculino                3                  4.00\n",
       "28              29    18   Femenino                1                  1.36\n",
       "29              30    32   Femenino                3                  3.64\n",
       "30              31    31  Masculino                3                  3.62\n",
       "31              32    49   Femenino                2                  2.98\n",
       "32              33    52  Masculino                3                  4.04\n",
       "33              34    35  Masculino                2                  2.70\n",
       "34              35    23   Femenino                3                  3.46\n",
       "35              36    31   Femenino                3                  3.62\n",
       "36              37    30   Femenino                2                  2.60\n",
       "37              38    35  Masculino                3                  3.70\n",
       "38              39    33  Masculino                3                  3.66\n",
       "39              40    57   Femenino                2                  3.14"
      ]
     },
     "execution_count": 45,
     "metadata": {},
     "output_type": "execute_result"
    }
   ],
   "source": [
    "df"
   ]
  },
  {
   "cell_type": "markdown",
   "id": "248d4734-9d69-4b82-ac86-57e9027aba6d",
   "metadata": {
    "tags": []
   },
   "source": [
    "#### Creación de empleados"
   ]
  },
  {
   "cell_type": "code",
   "execution_count": 46,
   "id": "522f47bb-0c31-47c1-9a74-f61b003ea755",
   "metadata": {
    "tags": []
   },
   "outputs": [],
   "source": [
    "import random\n",
    "\n",
    "class Empleado:\n",
    "    ultimo_id = 0\n",
    "        \n",
    "    def __init__(self):\n",
    "        Empleado.ultimo_id += 1\n",
    "        self.id = Empleado.ultimo_id\n",
    "        self.experiencia = random.randint(50, 100) / 100  # Genera un número entre 50 y 100 y lo convierte en decimal\n",
    "        #donde 100:0 experiencia, 99:1 de experiencia, y seguido hasta 50:50 de experiencia.\n",
    "        self.tiempo_general = 5\n",
    "        \n",
    "    def tiempo_promedio(self):\n",
    "        return self.tiempo_general * self.experiencia\n"
   ]
  },
  {
   "cell_type": "markdown",
   "id": "2b125b7a-7083-4b0d-8314-3178213e53e3",
   "metadata": {
    "tags": []
   },
   "source": [
    "#### Definir numero de servidores"
   ]
  },
  {
   "cell_type": "code",
   "execution_count": 47,
   "id": "f974ce48-61fc-474c-b78c-e82b36a27828",
   "metadata": {
    "tags": []
   },
   "outputs": [],
   "source": [
    "num_servidores = 3"
   ]
  },
  {
   "cell_type": "markdown",
   "id": "3551292f-09d5-4d7f-928e-da78cd27d7b6",
   "metadata": {
    "tags": []
   },
   "source": [
    "#### Generación de empleados en base a los servidores"
   ]
  },
  {
   "cell_type": "code",
   "execution_count": 48,
   "id": "bbc7a42c-1436-413f-8320-fcc21677a143",
   "metadata": {},
   "outputs": [],
   "source": [
    "empleados = [Empleado() for _ in range(num_servidores)]"
   ]
  },
  {
   "cell_type": "code",
   "execution_count": 49,
   "id": "d5914356-dadd-43b4-a844-f30f88b4761e",
   "metadata": {},
   "outputs": [],
   "source": [
    "df_empleados = pd.DataFrame(\n",
    "    data={\n",
    "        \"Identificacion\": [empleado.id for empleado in empleados],\n",
    "        \"Experiencia\": [empleado.experiencia for empleado in empleados],\n",
    "        \"Tiempo general de Empleado (min)\": [empleado.tiempo_general for empleado in empleados],\n",
    "        \"Tiempo promedio de Empleado (min)\": [empleado.tiempo_promedio() for empleado in empleados]\n",
    "    }\n",
    ")"
   ]
  },
  {
   "cell_type": "code",
   "execution_count": 50,
   "id": "4c01a830-f6c9-468f-b509-03302517708f",
   "metadata": {
    "tags": []
   },
   "outputs": [
    {
     "data": {
      "text/html": [
       "<div>\n",
       "<style scoped>\n",
       "    .dataframe tbody tr th:only-of-type {\n",
       "        vertical-align: middle;\n",
       "    }\n",
       "\n",
       "    .dataframe tbody tr th {\n",
       "        vertical-align: top;\n",
       "    }\n",
       "\n",
       "    .dataframe thead th {\n",
       "        text-align: right;\n",
       "    }\n",
       "</style>\n",
       "<table border=\"1\" class=\"dataframe\">\n",
       "  <thead>\n",
       "    <tr style=\"text-align: right;\">\n",
       "      <th></th>\n",
       "      <th>Identificacion</th>\n",
       "      <th>Experiencia</th>\n",
       "      <th>Tiempo general de Empleado (min)</th>\n",
       "      <th>Tiempo promedio de Empleado (min)</th>\n",
       "    </tr>\n",
       "  </thead>\n",
       "  <tbody>\n",
       "    <tr>\n",
       "      <th>0</th>\n",
       "      <td>1</td>\n",
       "      <td>0.88</td>\n",
       "      <td>5</td>\n",
       "      <td>4.40</td>\n",
       "    </tr>\n",
       "    <tr>\n",
       "      <th>1</th>\n",
       "      <td>2</td>\n",
       "      <td>0.67</td>\n",
       "      <td>5</td>\n",
       "      <td>3.35</td>\n",
       "    </tr>\n",
       "    <tr>\n",
       "      <th>2</th>\n",
       "      <td>3</td>\n",
       "      <td>0.55</td>\n",
       "      <td>5</td>\n",
       "      <td>2.75</td>\n",
       "    </tr>\n",
       "  </tbody>\n",
       "</table>\n",
       "</div>"
      ],
      "text/plain": [
       "   Identificacion  Experiencia  Tiempo general de Empleado (min)  \\\n",
       "0               1         0.88                                 5   \n",
       "1               2         0.67                                 5   \n",
       "2               3         0.55                                 5   \n",
       "\n",
       "   Tiempo promedio de Empleado (min)  \n",
       "0                               4.40  \n",
       "1                               3.35  \n",
       "2                               2.75  "
      ]
     },
     "execution_count": 50,
     "metadata": {},
     "output_type": "execute_result"
    }
   ],
   "source": [
    "df_empleados"
   ]
  },
  {
   "cell_type": "markdown",
   "id": "a38ffc41",
   "metadata": {
    "tags": []
   },
   "source": [
    "# No chambeo mas, porque ya me dio pereza ~cmmz \n"
   ]
  },
  {
   "cell_type": "markdown",
   "id": "b0415ffe",
   "metadata": {},
   "source": [
    "**Extra:Posible muestra de asientos usados en la sala**"
   ]
  },
  {
   "cell_type": "code",
   "execution_count": 51,
   "id": "df5d8282",
   "metadata": {},
   "outputs": [
    {
     "name": "stdout",
     "output_type": "stream",
     "text": [
      "\u001b[92mA1\u001b[0m\t\u001b[92mA2\u001b[0m\t\u001b[92mA3\u001b[0m\t\u001b[92mA4\u001b[0m\t\u001b[92mA5\u001b[0m\t\u001b[92mA6\u001b[0m\t\u001b[92mA7\u001b[0m\t\n",
      "\u001b[92mB1\u001b[0m\t\u001b[92mB2\u001b[0m\t\u001b[92mB3\u001b[0m\t\u001b[92mB4\u001b[0m\t\u001b[92mB5\u001b[0m\t\u001b[92mB6\u001b[0m\t\u001b[92mB7\u001b[0m\t\n",
      "\u001b[92mC1\u001b[0m\t\u001b[92mC2\u001b[0m\t\u001b[92mC3\u001b[0m\t\u001b[92mC4\u001b[0m\t\u001b[92mC5\u001b[0m\t\u001b[92mC6\u001b[0m\t\u001b[92mC7\u001b[0m\t\n",
      "\u001b[92mD1\u001b[0m\t\u001b[92mD2\u001b[0m\t\u001b[92mD3\u001b[0m\t\u001b[92mD4\u001b[0m\t\u001b[92mD5\u001b[0m\t\u001b[92mD6\u001b[0m\t\u001b[92mD7\u001b[0m\t\n",
      "\u001b[92mE1\u001b[0m\t\u001b[92mE2\u001b[0m\t\u001b[92mE3\u001b[0m\t\u001b[92mE4\u001b[0m\t\u001b[92mE5\u001b[0m\t\u001b[92mE6\u001b[0m\t\u001b[92mE7\u001b[0m\t\n",
      "\u001b[92mF1\u001b[0m\t\u001b[92mF2\u001b[0m\t\u001b[92mF3\u001b[0m\t\u001b[92mF4\u001b[0m\t\u001b[92mF5\u001b[0m\t\u001b[92mF6\u001b[0m\t\u001b[92mF7\u001b[0m\t\n",
      "\u001b[92mG1\u001b[0m\t\u001b[92mG2\u001b[0m\t\u001b[92mG3\u001b[0m\t\u001b[92mG4\u001b[0m\t\u001b[92mG5\u001b[0m\t\u001b[92mG6\u001b[0m\t\u001b[92mG7\u001b[0m\t\n"
     ]
    }
   ],
   "source": [
    "def crear_matriz():\n",
    "    filas = ['A', 'B', 'C', 'D', 'E','F','G']\n",
    "    columnas = [1, 2, 3, 4, 5, 6, 7]\n",
    "\n",
    "    matriz = []\n",
    "\n",
    "    for fila in filas:\n",
    "        nueva_fila = []\n",
    "        for columna in columnas:\n",
    "            # La disponibilidad se establece inicialmente en True para todas las celdas\n",
    "            celda = {'fila': fila, 'columna': columna, 'disponibilidad': True}\n",
    "            nueva_fila.append(celda)\n",
    "        matriz.append(nueva_fila)\n",
    "\n",
    "    return matriz\n",
    "\n",
    "def imprimir_matriz(matriz):\n",
    "     for fila in matriz:\n",
    "        for celda in fila:\n",
    "            # Seleccionar el código de color basado en la disponibilidad\n",
    "            color = '\\033[92m' if celda['disponibilidad'] else '\\033[91m'\n",
    "            \n",
    "            # Imprimir la celda en formato 'FilaColumna' con el color correspondiente\n",
    "            print(f\"{color}{celda['fila']}{celda['columna']}\\033[0m\", end='\\t')\n",
    "        print()  # Saltar a una nueva línea después de imprimir una fila completa\n",
    "\n",
    "# Crear la matriz\n",
    "mi_matriz = crear_matriz()\n",
    "\n",
    "# Imprimir la matriz\n",
    "imprimir_matriz(mi_matriz)"
   ]
  },
  {
   "cell_type": "code",
   "execution_count": null,
   "id": "63c38e60",
   "metadata": {},
   "outputs": [],
   "source": []
  }
 ],
 "metadata": {
  "kernelspec": {
   "display_name": "Python 3 (ipykernel)",
   "language": "python",
   "name": "python3"
  },
  "language_info": {
   "codemirror_mode": {
    "name": "ipython",
    "version": 3
   },
   "file_extension": ".py",
   "mimetype": "text/x-python",
   "name": "python",
   "nbconvert_exporter": "python",
   "pygments_lexer": "ipython3",
   "version": "3.11.5"
  }
 },
 "nbformat": 4,
 "nbformat_minor": 5
}
